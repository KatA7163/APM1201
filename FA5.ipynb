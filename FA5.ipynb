{
 "cells": [
  {
   "cell_type": "markdown",
   "id": "f3a8cb36",
   "metadata": {},
   "source": [
    "### P-5.32 Write a Python function that takes two three-dimensional numeric data sets and adds them componentwise."
   ]
  },
  {
   "cell_type": "code",
   "execution_count": 4,
   "id": "ced443b6",
   "metadata": {},
   "outputs": [
    {
     "name": "stdout",
     "output_type": "stream",
     "text": [
      "[[[2, 3], [4, 5]], [[6, 7], [8, 9]]]\n"
     ]
    }
   ],
   "source": [
    "def add_3d_matrices(matrix1, matrix2):\n",
    "    if (len(matrix1) != len(matrix2) or\n",
    "        any(len(matrix1[i]) != len(matrix2[i]) for i in range(len(matrix1))) or\n",
    "        any(len(matrix1[i][j]) != len(matrix2[i][j]) for i in range(len(matrix1)) for j in range(len(matrix1[i])))):\n",
    "        raise ValueError(\"Matrices must have the same dimensions\")\n",
    "\n",
    "    result = [[[matrix1[i][j][k] + matrix2[i][j][k] \n",
    "                for k in range(len(matrix1[i][j]))]\n",
    "                for j in range(len(matrix1[i]))]\n",
    "                for i in range(len(matrix1))]\n",
    "    \n",
    "    return result\n",
    "matrix1 = [\n",
    "    [[1, 2], [3, 4]],\n",
    "    [[5, 6], [7, 8]]\n",
    "]\n",
    "\n",
    "matrix2 = [\n",
    "    [[1, 1], [1, 1]],\n",
    "    [[1, 1], [1, 1]]\n",
    "]\n",
    "\n",
    "result = add_3d_matrices(matrix1, matrix2)\n",
    "print(result)"
   ]
  },
  {
   "cell_type": "markdown",
   "id": "1fcbb835",
   "metadata": {},
   "source": [
    "### P-6.32 Give a complete ArrayDeque implementation of the double-ended queue ADT as sketched in Section 6.3.2."
   ]
  },
  {
   "cell_type": "code",
   "execution_count": 3,
   "id": "7565e5a2",
   "metadata": {},
   "outputs": [
    {
     "name": "stdout",
     "output_type": "stream",
     "text": [
      "Deque after adding elements:\n",
      "[5, 10, 20, 30]\n",
      "First element: 5\n",
      "Last element: 30\n",
      "Deque after deleting elements:\n",
      "[10, 20]\n",
      "Removed first: 5\n",
      "Removed last: 30\n",
      "Final deque state:\n",
      "[1, 10, 20, 40]\n"
     ]
    }
   ],
   "source": [
    "class ArrayDeque:\n",
    "    def __init__(self, capacity=10):\n",
    "        self.data = [None] * capacity  \n",
    "        self.size = 0                  \n",
    "        self.front = 0                 \n",
    "\n",
    "    def is_empty(self):\n",
    "        return self.size == 0\n",
    "\n",
    "    def first(self):\n",
    "        if self.is_empty():\n",
    "            raise IndexError(\"Deque is empty\")\n",
    "        return self.data[self.front]\n",
    "\n",
    "    def last(self):\n",
    "        if self.is_empty():\n",
    "            raise IndexError(\"Deque is empty\")\n",
    "        back = (self.front + self.size - 1) % len(self.data)\n",
    "        return self.data[back]\n",
    "\n",
    "    def add_first(self, value):\n",
    "        if self.size == len(self.data):\n",
    "            self._resize(2 * len(self.data))\n",
    "        self.front = (self.front - 1) % len(self.data)  \n",
    "        self.data[self.front] = value\n",
    "        self.size += 1\n",
    "\n",
    "    def add_last(self, value):\n",
    "        if self.size == len(self.data):\n",
    "            self._resize(2 * len(self.data))\n",
    "        back = (self.front + self.size) % len(self.data)\n",
    "        self.data[back] = value\n",
    "        self.size += 1\n",
    "\n",
    "    def delete_first(self):\n",
    "        if self.is_empty():\n",
    "            raise IndexError(\"Deque is empty\")\n",
    "        value = self.data[self.front]\n",
    "        self.data[self.front] = None\n",
    "        self.front = (self.front + 1) % len(self.data)  \n",
    "        self.size -= 1\n",
    "        return value\n",
    "\n",
    "    def delete_last(self):\n",
    "        if self.is_empty():\n",
    "            raise IndexError(\"Deque is empty\")\n",
    "        back = (self.front + self.size - 1) % len(self.data)\n",
    "        value = self.data[back]\n",
    "        self.data[back] = None\n",
    "        self.size -= 1\n",
    "        return value\n",
    "\n",
    "    def _resize(self, capacity):\n",
    "        old_data = self.data\n",
    "        self.data = [None] * capacity\n",
    "        walk = self.front\n",
    "        for k in range(self.size):  \n",
    "            self.data[k] = old_data[walk]\n",
    "            walk = (walk + 1) % len(old_data)\n",
    "        self.front = 0\n",
    "deque = ArrayDeque()\n",
    "\n",
    "deque.add_last(10)\n",
    "deque.add_last(20)\n",
    "deque.add_first(5)\n",
    "deque.add_last(30)\n",
    "\n",
    "print(\"Deque after adding elements:\")\n",
    "print([deque.data[(deque.front + i) % len(deque.data)] for i in range(deque.size)])  \n",
    "\n",
    "print(\"First element:\", deque.first())  \n",
    "print(\"Last element:\", deque.last())    \n",
    "\n",
    "removed_first = deque.delete_first()    \n",
    "removed_last = deque.delete_last()      \n",
    "\n",
    "print(\"Deque after deleting elements:\")\n",
    "print([deque.data[(deque.front + i) % len(deque.data)] for i in range(deque.size)])  \n",
    "\n",
    "print(\"Removed first:\", removed_first)  \n",
    "print(\"Removed last:\", removed_last)    \n",
    "\n",
    "\n",
    "deque.add_first(1)\n",
    "deque.add_last(40)\n",
    "\n",
    "\n",
    "print(\"Final deque state:\")\n",
    "print([deque.data[(deque.front + i) % len(deque.data)] for i in range(deque.size)])  "
   ]
  }
 ],
 "metadata": {
  "kernelspec": {
   "display_name": "Python 3 (ipykernel)",
   "language": "python",
   "name": "python3"
  },
  "language_info": {
   "codemirror_mode": {
    "name": "ipython",
    "version": 3
   },
   "file_extension": ".py",
   "mimetype": "text/x-python",
   "name": "python",
   "nbconvert_exporter": "python",
   "pygments_lexer": "ipython3",
   "version": "3.11.5"
  }
 },
 "nbformat": 4,
 "nbformat_minor": 5
}
