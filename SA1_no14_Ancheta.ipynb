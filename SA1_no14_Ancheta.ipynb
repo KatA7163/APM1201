{
 "cells": [
  {
   "cell_type": "markdown",
   "id": "a239abf4",
   "metadata": {},
   "source": [
    "Suppose you are given an n-element sequence, S, containing distinct integers that are listed in increasing order. Given a number k, describe a recursive algorithm to find two integers in S that sum to k, if such a pair exists. What is the running time of your algorithm?"
   ]
  },
  {
   "cell_type": "code",
   "execution_count": 4,
   "id": "e2d138a7",
   "metadata": {},
   "outputs": [
    {
     "name": "stdout",
     "output_type": "stream",
     "text": [
      "Pair found: (1, 21)\n",
      "Time taken: 0.000000 seconds\n"
     ]
    }
   ],
   "source": [
    "import time\n",
    "\n",
    "def find_pair_recursive(S, left, right, k):\n",
    "    if left >= right:\n",
    "        return None\n",
    "\n",
    "    current_sum = S[left] + S[right]\n",
    "\n",
    "    if current_sum == k:\n",
    "        return (S[left], S[right])\n",
    "    elif current_sum < k:\n",
    "        return find_pair_recursive(S, left + 1, right, k)\n",
    "    else:\n",
    "        return find_pair_recursive(S, left, right - 1, k)\n",
    "\n",
    "def find_pair_with_timer(S, k):\n",
    "    start_time = time.time()  \n",
    "    result = find_pair_recursive(S, 0, len(S) - 1, k)\n",
    "    end_time = time.time()    \n",
    "    elapsed_time = end_time - start_time\n",
    "\n",
    "    if result:\n",
    "        print(f\"Pair found: {result}\")\n",
    "    else:\n",
    "        print(\"No pair found.\")\n",
    "    print(f\"Time taken: {elapsed_time:.6f} seconds\")\n",
    "\n",
    "if __name__ == \"__main__\":\n",
    "    S = [1, 3, 5, 7, 9, 11, 13, 15, 17, 19, 21, 23, 25]\n",
    "    k = 22\n",
    "    find_pair_with_timer(S, k)"
   ]
  },
  {
   "cell_type": "code",
   "execution_count": 6,
   "id": "6d5a04ab",
   "metadata": {},
   "outputs": [
    {
     "name": "stdout",
     "output_type": "stream",
     "text": [
      "No pair found.\n",
      "Time taken: 0.000000 seconds\n"
     ]
    }
   ],
   "source": [
    "if __name__ == \"__main__\":\n",
    "    S = [2, 4, 6, 8, 10, 12, 14, 16, 18, 20]\n",
    "    k = 23\n",
    "    find_pair_with_timer(S, k)"
   ]
  },
  {
   "cell_type": "code",
   "execution_count": null,
   "id": "9aba9b12",
   "metadata": {},
   "outputs": [],
   "source": []
  }
 ],
 "metadata": {
  "kernelspec": {
   "display_name": "Python 3 (ipykernel)",
   "language": "python",
   "name": "python3"
  },
  "language_info": {
   "codemirror_mode": {
    "name": "ipython",
    "version": 3
   },
   "file_extension": ".py",
   "mimetype": "text/x-python",
   "name": "python",
   "nbconvert_exporter": "python",
   "pygments_lexer": "ipython3",
   "version": "3.11.5"
  }
 },
 "nbformat": 4,
 "nbformat_minor": 5
}
