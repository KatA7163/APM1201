{
 "cells": [
  {
   "cell_type": "code",
   "execution_count": 14,
   "id": "4c511dbb",
   "metadata": {},
   "outputs": [
    {
     "name": "stdout",
     "output_type": "stream",
     "text": [
      "Solving puzzle: pot + pan = bib\n",
      "pot: 87\n",
      "pan: 34\n",
      "bib: 121\n",
      "----------------------------------------\n",
      "Solving puzzle: dog + cat = pig\n",
      "dog: 156\n",
      "cat: 240\n",
      "pig: 396\n",
      "----------------------------------------\n",
      "Solving puzzle: boy + girl = baby\n",
      "boy: 723\n",
      "girl: 6450\n",
      "baby: 7173\n",
      "----------------------------------------\n"
     ]
    }
   ],
   "source": [
    "import itertools\n",
    "\n",
    "def solve_puzzle(words, result):\n",
    "    letters = set(\"\".join(words) + result)\n",
    "    if len(letters) > 10:\n",
    "        raise ValueError(\"Too many unique letters for the puzzle\")\n",
    "    \n",
    "    digits = range(10)\n",
    "    \n",
    "    for perm in itertools.permutations(digits, len(letters)):\n",
    "        letter_to_digit = dict(zip(letters, perm))\n",
    "        \n",
    "        words_value = [word_to_num(word, letter_to_digit) for word in words]\n",
    "        result_value = word_to_num(result, letter_to_digit)\n",
    "        \n",
    "        if sum(words_value) == result_value:\n",
    "            print_solution(words, result, letter_to_digit)\n",
    "            return letter_to_digit  \n",
    "    \n",
    "    print(\"No solution found\")\n",
    "    return None\n",
    "\n",
    "def word_to_num(word, letter_to_digit):\n",
    "    return int(\"\".join(str(letter_to_digit[letter]) for letter in word))\n",
    "\n",
    "def print_solution(words, result, letter_to_digit):\n",
    "    for word in words:\n",
    "        print(f\"{word}: {word_to_num(word, letter_to_digit)}\")\n",
    "    print(f\"{result}: {word_to_num(result, letter_to_digit)}\")\n",
    "\n",
    "\n",
    "puzzles = [\n",
    "    ([\"pot\", \"pan\"], \"bib\"),\n",
    "    ([\"dog\", \"cat\"], \"pig\"),\n",
    "    ([\"boy\", \"girl\"], \"baby\"),\n",
    "]\n",
    "\n",
    "for words, result in puzzles:\n",
    "    print(f\"Solving puzzle: {' + '.join(words)} = {result}\")\n",
    "    solve_puzzle(words, result)\n",
    "    print(\"-\" * 40)"
   ]
  },
  {
   "cell_type": "code",
   "execution_count": 12,
   "id": "a5cdbb3a",
   "metadata": {},
   "outputs": [],
   "source": [
    "def hanoi(n, start, end, midpoint):\n",
    "    if n == 1:\n",
    "        print(f\"Move disk 1 from {start} to {end}\")\n",
    "    else:\n",
    "        hanoi(n-1, start, midpoint, end)\n",
    "        print(f\"Move disk {n} from {start} to {end}\")\n",
    "        hanoi(n-1, midpoint, end, start)"
   ]
  },
  {
   "cell_type": "code",
   "execution_count": 13,
   "id": "45ab762e",
   "metadata": {},
   "outputs": [
    {
     "name": "stdout",
     "output_type": "stream",
     "text": [
      "Move disk 1 from a to c\n",
      "Move disk 2 from a to b\n",
      "Move disk 1 from c to b\n",
      "Move disk 3 from a to c\n",
      "Move disk 1 from b to a\n",
      "Move disk 2 from b to c\n",
      "Move disk 1 from a to c\n",
      "Move disk 4 from a to b\n",
      "Move disk 1 from c to b\n",
      "Move disk 2 from c to a\n",
      "Move disk 1 from b to a\n",
      "Move disk 3 from c to b\n",
      "Move disk 1 from a to c\n",
      "Move disk 2 from a to b\n",
      "Move disk 1 from c to b\n",
      "Move disk 5 from a to c\n",
      "Move disk 1 from b to a\n",
      "Move disk 2 from b to c\n",
      "Move disk 1 from a to c\n",
      "Move disk 3 from b to a\n",
      "Move disk 1 from c to b\n",
      "Move disk 2 from c to a\n",
      "Move disk 1 from b to a\n",
      "Move disk 4 from b to c\n",
      "Move disk 1 from a to c\n",
      "Move disk 2 from a to b\n",
      "Move disk 1 from c to b\n",
      "Move disk 3 from a to c\n",
      "Move disk 1 from b to a\n",
      "Move disk 2 from b to c\n",
      "Move disk 1 from a to c\n"
     ]
    }
   ],
   "source": [
    "hanoi(5, 'a', 'c', 'b')"
   ]
  },
  {
   "cell_type": "code",
   "execution_count": null,
   "id": "0a734b6f",
   "metadata": {},
   "outputs": [],
   "source": []
  }
 ],
 "metadata": {
  "kernelspec": {
   "display_name": "Python 3 (ipykernel)",
   "language": "python",
   "name": "python3"
  },
  "language_info": {
   "codemirror_mode": {
    "name": "ipython",
    "version": 3
   },
   "file_extension": ".py",
   "mimetype": "text/x-python",
   "name": "python",
   "nbconvert_exporter": "python",
   "pygments_lexer": "ipython3",
   "version": "3.11.5"
  }
 },
 "nbformat": 4,
 "nbformat_minor": 5
}
