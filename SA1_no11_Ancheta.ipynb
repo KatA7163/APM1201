{
 "cells": [
  {
   "cell_type": "markdown",
   "id": "db9c0592",
   "metadata": {},
   "source": [
    "Write a Python program that simulates a handheld calculator. Your program should process input from the Python console representing buttons that are “pushed,” and then output the contents of the screen after each operation is performed. Minimally, your calculator should be able to process the basic arithmetic operations and a reset/clear operation."
   ]
  },
  {
   "cell_type": "code",
   "execution_count": null,
   "id": "75811d54",
   "metadata": {},
   "outputs": [
    {
     "name": "stdout",
     "output_type": "stream",
     "text": [
      "Calculator is ready. Enter numbers, +, -, *, /, =, or C (to clear).\n",
      "Press button: 4\n",
      "Screen: 4\n",
      "Press button: /\n",
      "Screen: 4/\n",
      "Press button: 2\n",
      "Screen: 4/2\n",
      "Press button: =\n",
      "Screen: 2.0\n",
      "Press button: *5\n",
      "Invalid input\n",
      "Screen: 2.0\n",
      "Press button: *\n",
      "Screen: 2.0*\n",
      "Press button: 5\n",
      "Screen: 2.0*5\n",
      "Press button: +\n",
      "Screen: 2.0*5+\n",
      "Press button: 2\n",
      "Screen: 2.0*5+2\n",
      "Press button: =\n",
      "Screen: 12.0\n",
      "Press button: -\n",
      "Screen: 12.0-\n",
      "Press button: 12\n",
      "Screen: 12.0-12\n",
      "Press button: =\n",
      "Screen: 0.0\n",
      "Press button: C\n",
      "Screen: 0\n"
     ]
    }
   ],
   "source": [
    "class Calculator:\n",
    "    def __init__(self):\n",
    "        self.current_input = \"\"  \n",
    "        self.result = 0\n",
    "\n",
    "    def press_button(self, button):\n",
    "        if button == 'C':\n",
    "            self.current_input = \"\"\n",
    "            self.result = 0\n",
    "            print(\"Screen:\", self.result)\n",
    "\n",
    "        elif button == '=':\n",
    "            try:\n",
    "                self.result = eval(self.current_input)\n",
    "                print(\"Screen:\", self.result)\n",
    "                self.current_input = str(self.result)  \n",
    "            except Exception as e:\n",
    "                print(\"Invalid input\")\n",
    "                self.current_input = \"\" \n",
    "\n",
    "        elif button in '0123456789+-*/':\n",
    "            self.current_input += button\n",
    "            print(\"Screen:\", self.current_input)  \n",
    "\n",
    "        else:\n",
    "            print(\"Invalid input\")\n",
    "            print(\"Screen:\", self.current_input if self.current_input else 0)\n",
    "\n",
    "def main():\n",
    "    calc = Calculator()\n",
    "    print(\"Calculator is ready. Enter numbers, +, -, *, /, =, or C (to clear).\")\n",
    "\n",
    "    while True:\n",
    "        button = input(\"Press button: \").strip() \n",
    "        calc.press_button(button)\n",
    "\n",
    "if __name__ == \"__main__\":\n",
    "    main()"
   ]
  },
  {
   "cell_type": "code",
   "execution_count": null,
   "id": "9a2e45c3",
   "metadata": {},
   "outputs": [],
   "source": []
  }
 ],
 "metadata": {
  "kernelspec": {
   "display_name": "Python 3 (ipykernel)",
   "language": "python",
   "name": "python3"
  },
  "language_info": {
   "codemirror_mode": {
    "name": "ipython",
    "version": 3
   },
   "file_extension": ".py",
   "mimetype": "text/x-python",
   "name": "python",
   "nbconvert_exporter": "python",
   "pygments_lexer": "ipython3",
   "version": "3.11.5"
  }
 },
 "nbformat": 4,
 "nbformat_minor": 5
}
